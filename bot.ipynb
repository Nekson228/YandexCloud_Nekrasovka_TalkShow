{
 "cells": [
  {
   "cell_type": "code",
   "execution_count": 10,
   "id": "757b6c40-ad3a-45f2-872e-82a49c382ff0",
   "metadata": {
    "execution": {
     "iopub.execute_input": "2025-04-24T09:12:49.757665Z",
     "iopub.status.busy": "2025-04-24T09:12:49.754976Z",
     "iopub.status.idle": "2025-04-24T09:12:49.805918Z",
     "shell.execute_reply": "2025-04-24T09:12:49.803464Z",
     "shell.execute_reply.started": "2025-04-24T09:12:49.757564Z"
    },
    "tags": []
   },
   "outputs": [],
   "source": [
    "import telebot\n",
    "import os\n",
    "import time"
   ]
  },
  {
   "cell_type": "code",
   "execution_count": 11,
   "id": "b2a95902-5abd-42a9-94e7-3b27b9e15dd2",
   "metadata": {
    "execution": {
     "iopub.execute_input": "2025-04-24T09:12:54.469429Z",
     "iopub.status.busy": "2025-04-24T09:12:54.465482Z",
     "iopub.status.idle": "2025-04-24T09:12:54.504500Z",
     "shell.execute_reply": "2025-04-24T09:12:54.502995Z",
     "shell.execute_reply.started": "2025-04-24T09:12:54.469331Z"
    },
    "tags": []
   },
   "outputs": [],
   "source": [
    "token = os.environ['bot_token'] # secret bot_token from environment variables\n",
    "if token is None:\n",
    "    raise ValueError(\"Environment variable 'TOKEN' is not set.\")\n",
    "\n",
    "bot = telebot.TeleBot(token)\n",
    "\n",
    "# Обработчик команды /start\n",
    "@bot.message_handler(commands=['start'])\n",
    "def handle_start(message):\n",
    "    user_name = message.from_user.first_name\n",
    "    welcome_message = f\"Привет, {user_name}! Добро пожаловать. \\\n",
    "    \\nЯ создан для предоставления вам дайджестов по газетам. \\\n",
    "    \\nДля получения дайджейста напишите мне интересующие вас темы (не больше 3), а также интересующий вас диапазон дат. \\\n",
    "    \\n\\nПример: 'Спорт, Политика, Экономика, с 01.01.2023 по 31.12.2023'\"\n",
    "    bot.send_message(message.chat.id, welcome_message)\n",
    "\n",
    "\n",
    "\n",
    "@bot.message_handler(content_types=['text'])\n",
    "def handle_digest_request(message):\n",
    "    topics_and_dates = message.text\n",
    "    bot.send_message(message.chat.id, f\"Вы запросили дайджест по темам: {topics_and_dates}\\n \\\n",
    "Пожалуйста, подождите, пока я собираю информацию...\")\n",
    "    \n",
    "# Функция для отправки текста пользователю\n",
    "def send_message_to_user(chat_id, text):\n",
    "    \"\"\"\n",
    "    Отправляет текстовое сообщение пользователю.\n",
    "    \n",
    "    Args:\n",
    "        chat_id: ID чата пользователя\n",
    "        text: Текст сообщения для отправки\n",
    "    \n",
    "    Returns:\n",
    "        Объект отправленного сообщения\n",
    "    \"\"\"\n",
    "    return bot.send_message(chat_id, text)\n",
    "\n",
    "# Функция для отправки аудио пользователю\n",
    "def send_audio_to_user(chat_id, audio_file, caption=None):\n",
    "    \"\"\"\n",
    "    Отправляет аудиозапись пользователю.\n",
    "    \n",
    "    Args:\n",
    "        chat_id: ID чата пользователя\n",
    "        audio_file: Путь к аудиофайлу или file_id или файловый объект\n",
    "        caption: Подпись к аудио (опционально)\n",
    "    \n",
    "    Returns:\n",
    "        Объект отправленного сообщения\n",
    "    \"\"\"\n",
    "    return bot.send_audio(chat_id, audio_file, caption=caption)"
   ]
  },
  {
   "cell_type": "code",
   "execution_count": 12,
   "id": "4ec516a0-338a-4d1b-b9cc-3dccaab3d308",
   "metadata": {
    "execution": {
     "iopub.execute_input": "2025-04-24T09:12:56.315587Z",
     "iopub.status.busy": "2025-04-24T09:12:56.312014Z",
     "iopub.status.idle": "2025-04-24T09:13:05.962317Z",
     "shell.execute_reply": "2025-04-24T09:13:05.959588Z",
     "shell.execute_reply.started": "2025-04-24T09:12:56.315459Z"
    },
    "tags": []
   },
   "outputs": [],
   "source": [
    "# Запуск бота\n",
    "if __name__ == \"__main__\":\n",
    "    bot.polling(none_stop=True)"
   ]
  }
 ],
 "metadata": {
  "kernelspec": {
   "display_name": "DataSphere Kernel",
   "language": "python",
   "name": "python3"
  },
  "language_info": {
   "codemirror_mode": {
    "name": "ipython",
    "version": 3
   },
   "file_extension": ".py",
   "mimetype": "text/x-python",
   "name": "python",
   "nbconvert_exporter": "python",
   "pygments_lexer": "ipython3",
   "version": "3.10.12"
  }
 },
 "nbformat": 4,
 "nbformat_minor": 5
}
